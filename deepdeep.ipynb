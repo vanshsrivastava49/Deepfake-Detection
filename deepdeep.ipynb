{
 "cells": [
  {
   "cell_type": "code",
   "execution_count": null,
   "id": "4599aac3",
   "metadata": {
    "vscode": {
     "languageId": "plaintext"
    }
   },
   "outputs": [],
   "source": [
    "import zipfile\n",
    "\n",
    "with zipfile.ZipFile('Dataset.zip', 'r') as zip_ref:\n",
    "    zip_ref.extractall('/content/data')"
   ]
  },
  {
   "cell_type": "code",
   "execution_count": null,
   "id": "e2d7e5e6",
   "metadata": {
    "vscode": {
     "languageId": "plaintext"
    }
   },
   "outputs": [],
   "source": [
    "data_dir = '/content/data/Dataset'\n",
    "import torch\n",
    "import torch.nn as nn\n",
    "from torch.utils.data import DataLoader\n",
    "from torchvision import datasets, transforms\n",
    "import timm"
   ]
  },
  {
   "cell_type": "code",
   "execution_count": null,
   "id": "9c15725a",
   "metadata": {
    "vscode": {
     "languageId": "plaintext"
    }
   },
   "outputs": [],
   "source": [
    "data_dir = '/content/data/Dataset'\n",
    "image_size = 224\n",
    "batch_size = 32\n",
    "\n",
    "train_transform = transforms.Compose([\n",
    "    transforms.Resize((image_size, image_size)),\n",
    "    transforms.RandomHorizontalFlip(),\n",
    "    transforms.ToTensor(),\n",
    "    transforms.Normalize([0.485, 0.456, 0.406], [0.229, 0.224, 0.225]),\n",
    "])\n",
    "test_transform = transforms.Compose([\n",
    "    transforms.Resize((image_size, image_size)),\n",
    "    transforms.ToTensor(),\n",
    "    transforms.Normalize([0.485, 0.456, 0.406], [0.229, 0.224, 0.225]),\n",
    "])\n",
    "\n",
    "train_dataset = datasets.ImageFolder(f'{data_dir}/Train', transform=train_transform)\n",
    "val_dataset = datasets.ImageFolder(f'{data_dir}/Validation', transform=test_transform)\n",
    "test_dataset = datasets.ImageFolder(f'{data_dir}/Test', transform=test_transform)\n",
    "\n",
    "train_loader = DataLoader(train_dataset, batch_size=batch_size, shuffle=True, num_workers=2)\n",
    "val_loader = DataLoader(val_dataset, batch_size=batch_size, shuffle=False, num_workers=2)\n",
    "test_loader = DataLoader(test_dataset, batch_size=batch_size, shuffle=False, num_workers=2)\n"
   ]
  },
  {
   "cell_type": "code",
   "execution_count": null,
   "id": "45131414",
   "metadata": {
    "vscode": {
     "languageId": "plaintext"
    }
   },
   "outputs": [],
   "source": [
    "def train_model(model, train_loader, val_loader, epochs=5, lr=1e-4):\n",
    "    device = torch.device(\"cuda\" if torch.cuda.is_available() else \"cpu\")\n",
    "    model = model.to(device)\n",
    "    optimizer = torch.optim.Adam(model.parameters(), lr=lr)\n",
    "    criterion = nn.CrossEntropyLoss()\n",
    "\n",
    "    for epoch in range(epochs):\n",
    "        model.train()\n",
    "        for imgs, labels in train_loader:\n",
    "            imgs, labels = imgs.to(device), labels.to(device)\n",
    "            optimizer.zero_grad()\n",
    "            outputs = model(imgs)\n",
    "            loss = criterion(outputs, labels)\n",
    "            loss.backward()\n",
    "            optimizer.step()\n",
    "        model.eval()\n",
    "        correct = 0\n",
    "        total = 0\n",
    "        with torch.no_grad():\n",
    "            for imgs, labels in val_loader:\n",
    "                imgs, labels = imgs.to(device), labels.to(device)\n",
    "                outputs = model(imgs)\n",
    "                preds = torch.argmax(outputs, 1)\n",
    "                correct += (preds == labels).sum().item()\n",
    "                total += labels.size(0)\n",
    "        print(f\"Epoch {epoch+1}/{epochs}, Validation Accuracy: {correct/total:.4f}\")\n",
    "    return model\n",
    "\n",
    "def evaluate_model(model, test_loader):\n",
    "    device = torch.device(\"cuda\" if torch.cuda.is_available() else \"cpu\")\n",
    "    model.eval()\n",
    "    correct = 0\n",
    "    total = 0\n",
    "    with torch.no_grad():\n",
    "        for imgs, labels in test_loader:\n",
    "            imgs, labels = imgs.to(device), labels.to(device)\n",
    "            outputs = model(imgs)\n",
    "            preds = torch.argmax(outputs, 1)\n",
    "            correct += (preds == labels).sum().item()\n",
    "            total += labels.size(0)\n",
    "    print(f\"Test Accuracy: {correct/total:.4f}\")\n"
   ]
  },
  {
   "cell_type": "code",
   "execution_count": null,
   "id": "a1d5e548",
   "metadata": {
    "vscode": {
     "languageId": "plaintext"
    }
   },
   "outputs": [],
   "source": [
    "effnet_model = timm.create_model('efficientnet_b0', pretrained=True)\n",
    "effnet_model.classifier = nn.Linear(effnet_model.classifier.in_features, 2)  # 2 classes\n",
    "effnet_model = train_model(effnet_model, train_loader, val_loader)\n",
    "torch.save(effnet_model.state_dict(), '/content/efficientnet_model.pt')\n",
    "evaluate_model(effnet_model, test_loader)"
   ]
  },
  {
   "cell_type": "code",
   "execution_count": null,
   "id": "30dc659e",
   "metadata": {
    "vscode": {
     "languageId": "plaintext"
    }
   },
   "outputs": [],
   "source": [
    "deit_model = timm.create_model('deit_small_patch16_224', pretrained=True)\n",
    "deit_model.head = nn.Linear(deit_model.head.in_features, 2)  # 2 classes\n",
    "deit_model = train_model(deit_model, train_loader, val_loader)\n",
    "torch.save(deit_model.state_dict(), '/content/deit_model.pt')\n",
    "evaluate_model(deit_model, test_loader)"
   ]
  },
  {
   "cell_type": "code",
   "execution_count": null,
   "id": "fcb10f4c",
   "metadata": {
    "vscode": {
     "languageId": "plaintext"
    }
   },
   "outputs": [],
   "source": [
    "!pip install matplotlib seaborn pandas\n",
    "import os\n",
    "import pandas as pd\n",
    "import matplotlib.pyplot as plt\n",
    "import seaborn as sns\n",
    "\n",
    "# Dataset root directory\n",
    "dataset_dir = '/content/data/Dataset'"
   ]
  },
  {
   "cell_type": "code",
   "execution_count": null,
   "id": "3722beec",
   "metadata": {
    "vscode": {
     "languageId": "plaintext"
    }
   },
   "outputs": [],
   "source": [
    "# Install OpenCV for sharpness calculation\n",
    "!pip install opencv-python-headless\n",
    "\n",
    "import os\n",
    "from PIL import Image\n",
    "import numpy as np\n",
    "import pandas as pd\n",
    "import seaborn as sns\n",
    "import matplotlib.pyplot as plt\n",
    "import cv2\n",
    "\n",
    "# For inline plots in Colab notebooks\n",
    "%matplotlib inline\n",
    "\n",
    "# Dataset path and classes\n",
    "dataset_dir = '/content/data/Dataset'  # <-- Change this path if needed\n",
    "splits = ['Train', 'Validation', 'Test']\n",
    "labels = ['Real', 'Fake']\n",
    "\n",
    "# Collect image statistics\n",
    "stats = []\n",
    "\n",
    "for split in splits:\n",
    "    for label in labels:\n",
    "        folder = os.path.join(dataset_dir, split, label)\n",
    "        if os.path.exists(folder):\n",
    "            for img_file in os.listdir(folder):\n",
    "                img_path = os.path.join(folder, img_file)\n",
    "                try:\n",
    "                    # Load image as RGB and convert to numpy\n",
    "                    img = Image.open(img_path).convert('RGB')\n",
    "                    img_np = np.array(img)\n",
    "                    width, height = img.size\n",
    "\n",
    "                    # Per-channel mean and std\n",
    "                    mean_r = img_np[:, :, 0].mean()\n",
    "                    mean_g = img_np[:, :, 1].mean()\n",
    "                    mean_b = img_np[:, :, 2].mean()\n",
    "                    std_r = img_np[:, :, 0].std()\n",
    "                    std_g = img_np[:, :, 1].std()\n",
    "                    std_b = img_np[:, :, 2].std()\n",
    "\n",
    "                    # Grayscale mean and std\n",
    "                    img_gray = img.convert('L')\n",
    "                    img_gray_np = np.array(img_gray)\n",
    "                    mean_gray = img_gray_np.mean()\n",
    "                    std_gray = img_gray_np.std()\n",
    "\n",
    "                    # Sharpness estimate (variance of Laplacian)\n",
    "                    laplacian_var = cv2.Laplacian(img_gray_np, cv2.CV_64F).var()\n",
    "\n",
    "                    # Append results\n",
    "                    stats.append({\n",
    "                        'split': split,\n",
    "                        'label': label,\n",
    "                        'filename': img_file,\n",
    "                        'width': width,\n",
    "                        'height': height,\n",
    "                        'mean_r': mean_r,\n",
    "                        'mean_g': mean_g,\n",
    "                        'mean_b': mean_b,\n",
    "                        'std_r': std_r,\n",
    "                        'std_g': std_g,\n",
    "                        'std_b': std_b,\n",
    "                        'mean_gray': mean_gray,\n",
    "                        'std_gray': std_gray,\n",
    "                        'sharpness': laplacian_var\n",
    "                    })\n",
    "                except Exception as e:\n",
    "                    print(f\"Error processing {img_path}: {e}\")\n",
    "\n",
    "# Create DataFrame\n",
    "df_stats = pd.DataFrame(stats)\n",
    "\n",
    "# Basic data overview\n",
    "print(\"Sample data:\")\n",
    "print(df_stats.head())\n",
    "\n",
    "print(\"\\nSummary statistics:\")\n",
    "print(df_stats.describe())\n",
    "\n",
    "# Set seaborn style for visuals\n",
    "sns.set(style='whitegrid', palette='pastel', font_scale=1.2)\n",
    "\n",
    "# 1) Histogram - Sharpness Distribution by Class\n",
    "plt.figure(figsize=(8,5))\n",
    "sns.histplot(data=df_stats, x='sharpness', hue='label', bins=30, palette='Set2', kde=False)\n",
    "plt.title('Histogram of Image Sharpness by Class')\n",
    "plt.xlabel('Sharpness (Variance of Laplacian)')\n",
    "plt.ylabel('Count')\n",
    "plt.show()\n",
    "\n",
    "# 2) Scatter Plot - Width vs Height by Class\n",
    "plt.figure(figsize=(10, 7))\n",
    "sns.scatterplot(\n",
    "    data=df_stats,\n",
    "    x='width',\n",
    "    y='height',\n",
    "    hue='label',\n",
    "    palette='Set2',\n",
    "    alpha=0.7,\n",
    "    edgecolor='w',\n",
    "    s=80\n",
    ")\n",
    "plt.title('Image Width vs Height by Class', fontsize=16, weight='bold')\n",
    "plt.xlabel('Width (pixels)', fontsize=14)\n",
    "plt.ylabel('Height (pixels)', fontsize=14)\n",
    "plt.xticks(fontsize=12)\n",
    "plt.yticks(fontsize=12)\n",
    "plt.grid(True, which='both', linestyle='--', linewidth=0.5)\n",
    "plt.minorticks_on()\n",
    "plt.legend(title='Class', fontsize=12, title_fontsize=14)\n",
    "plt.tight_layout()\n",
    "plt.show()\n",
    "\n",
    "# 3) Bar Chart - Average RGB Means by Class\n",
    "plt.figure(figsize=(8,5))\n",
    "df_rgb_mean = df_stats.groupby('label')[['mean_r', 'mean_g', 'mean_b']].mean().reset_index()\n",
    "df_rgb_mean_melted = df_rgb_mean.melt(id_vars='label', var_name='Channel', value_name='Mean Intensity')\n",
    "\n",
    "sns.barplot(x='Channel', y='Mean Intensity', hue='label', data=df_rgb_mean_melted, palette='Set2')\n",
    "plt.title('Average RGB Means by Class')\n",
    "plt.xlabel('Color Channel')\n",
    "plt.ylabel('Mean Intensity')\n",
    "plt.show()\n",
    "\n",
    "# 4) Pie Chart - Proportion of Real vs Fake Images (overall dataset)\n",
    "plt.figure(figsize=(6,6))\n",
    "class_counts = df_stats['label'].value_counts()\n",
    "plt.pie(class_counts,\n",
    "        labels=class_counts.index,\n",
    "        autopct='%1.1f%%',\n",
    "        colors=sns.color_palette('Set2'),\n",
    "        startangle=140,\n",
    "        wedgeprops={'edgecolor': 'black'})\n",
    "plt.title('Proportion of Real vs Fake Images')\n",
    "plt.show()\n",
    "\n",
    "# 5) Boxplot - Sharpness Distribution by Class with swarmplot overlay\n",
    "plt.figure(figsize=(8,6))\n",
    "sns.boxplot(x='label', y='sharpness', data=df_stats, palette='Set2')\n",
    "sns.swarmplot(x='label', y='sharpness', data=df_stats, color='k', alpha=0.5)\n",
    "plt.title('Image Sharpness Distribution by Class')\n",
    "plt.xlabel('Class')\n",
    "plt.ylabel('Sharpness (Variance of Laplacian)')\n",
    "plt.yscale('log')  # Log scale helps visualize skewed sharpness values\n",
    "plt.show()\n",
    "\n",
    "# 6) Line Chart - Average Sharpness Trend Across Dataset Splits\n",
    "plt.figure(figsize=(8,5))\n",
    "df_split_sharpness = df_stats.groupby(['split', 'label'])['sharpness'].mean().reset_index()\n",
    "sns.lineplot(data=df_split_sharpness, x='split', y='sharpness', hue='label', marker='o', palette='Set2')\n",
    "plt.title('Average Image Sharpness Trend Across Dataset Splits')\n",
    "plt.xlabel('Dataset Split')\n",
    "plt.ylabel('Mean Sharpness')\n",
    "plt.show()\n"
   ]
  }
 ],
 "metadata": {
  "language_info": {
   "name": "python"
  }
 },
 "nbformat": 4,
 "nbformat_minor": 5
}
